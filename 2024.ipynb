{
 "cells": [
  {
   "cell_type": "code",
   "execution_count": 41,
   "id": "fd3591d3-2667-4a2e-9cda-1a16b3e0bbfc",
   "metadata": {},
   "outputs": [],
   "source": [
    "import pandas as pd\n",
    "import folium\n",
    "import numpy as np"
   ]
  },
  {
   "cell_type": "code",
   "execution_count": 3,
   "id": "ef75785b-5293-4d66-b74f-8f2b06cf5213",
   "metadata": {},
   "outputs": [],
   "source": [
    "bars_df = pd.read_csv('bar_csvs/bar_list_2024.csv', index_col=False)"
   ]
  },
  {
   "cell_type": "code",
   "execution_count": 4,
   "id": "4202eda5-4ecd-498f-8eaa-7b902bd5967e",
   "metadata": {},
   "outputs": [],
   "source": [
    "bars_df = bars_df.rename(columns={\"Unnamed: 0\": \"Bar ID\"})"
   ]
  },
  {
   "cell_type": "code",
   "execution_count": 5,
   "id": "b239115c-466e-4704-b823-da7dba3f4146",
   "metadata": {},
   "outputs": [],
   "source": [
    "bars_df['Priority'] = 0"
   ]
  },
  {
   "cell_type": "code",
   "execution_count": 6,
   "id": "b3226ea3-45a4-46b2-a027-fc24ec94cfdc",
   "metadata": {},
   "outputs": [],
   "source": [
    "updates = {\n",
    "    51: 1,\n",
    "    3: 2,\n",
    "    27: 3,\n",
    "    143: 4,\n",
    "    155: 5,\n",
    "    158: 6,\n",
    "    95: 7,\n",
    "    193: 8,\n",
    "    107: 9,\n",
    "    42: 10,\n",
    "    127: 11,\n",
    "    192: 12,\n",
    "    196: 13,\n",
    "    187: 14,\n",
    "    118: 15,\n",
    "    72: 16,\n",
    "    162: 17,\n",
    "    63: 18,\n",
    "    55: 19,\n",
    "    141: 20,\n",
    "    28: 21,\n",
    "    77: 22,\n",
    "    57: 23,\n",
    "    23: 24,\n",
    "    157: 25,\n",
    "    1: 26,\n",
    "    197: 27,\n",
    "    24: 28,\n",
    "    83: 29, \n",
    "    122: 30,\n",
    "    52: 31\n",
    "}\n",
    "\n",
    "for row, priority in updates.items():\n",
    "    bars_df.loc[row, 'Priority'] = priority"
   ]
  },
  {
   "cell_type": "code",
   "execution_count": 7,
   "id": "39b93aba-ac78-4350-b1af-da6bfac8a277",
   "metadata": {},
   "outputs": [],
   "source": [
    "drinks_df = pd.read_csv('drinks_df_preferences.csv')"
   ]
  },
  {
   "cell_type": "code",
   "execution_count": 8,
   "id": "881e6dbb-abae-4e3f-820a-637b502b8c6a",
   "metadata": {},
   "outputs": [],
   "source": [
    "drinks_df = drinks_df.drop(columns=['Unnamed: 0'])"
   ]
  },
  {
   "cell_type": "code",
   "execution_count": 9,
   "id": "ac4795d0-a645-42c6-8111-a301e0241897",
   "metadata": {},
   "outputs": [],
   "source": [
    "drinks_df['Total'] = drinks_df['Preferences'] + drinks_df['Temp Preferences']"
   ]
  },
  {
   "cell_type": "code",
   "execution_count": 10,
   "id": "9ee36281-a0ba-4af5-b7dd-2b96f9cb4338",
   "metadata": {},
   "outputs": [],
   "source": [
    "map_center = [bars_df['Latitude'].mean(), bars_df['Longitude'].mean()]\n",
    "map = folium.Map(location=map_center, zoom_start=12)"
   ]
  },
  {
   "cell_type": "code",
   "execution_count": 11,
   "id": "b4dc7c9c-9420-4072-9094-8b019ce89e18",
   "metadata": {},
   "outputs": [],
   "source": [
    "for idx, row in bars_df.iterrows():\n",
    "    priority = row['Priority']\n",
    "    bar_id = row['Bar ID']\n",
    "    bar = row['Bar Name']\n",
    "\n",
    "    drink_rows = drinks_df[drinks_df['Bar ID'] == bar_id]\n",
    "\n",
    "    value_1 = drink_rows['Preferences'].max()\n",
    "    value_2 = drink_rows['Temp Preferences'].max()\n",
    "    total_value = value_1 + value_2\n",
    "\n",
    "    popup = ''\n",
    "    \n",
    "    for drink_idx, drink_row in drink_rows.iterrows():\n",
    "        drink = drink_row['Drink']\n",
    "        preference = drink_row['Preferences']\n",
    "        popup += f\" Bar: {bar} Drink: {drink} / Preference: {preference} \\n\"\n",
    "\n",
    "    # print(priority)\n",
    "    if 1 <= priority <= 10:\n",
    "        color = 'red'\n",
    "    elif 11 <= priority <= 20:\n",
    "        color = 'green'\n",
    "    elif 21 <= priority <= 30:\n",
    "        color = 'blue'\n",
    "    else:\n",
    "        color = 'gray' \n",
    "\n",
    "    \n",
    "    \n",
    "    if (value_1 >= 4 or value_2 >= 4 or total_value >= 6):\n",
    "        folium.Marker(\n",
    "            location=[row['Latitude'], row['Longitude']],  # Coordinates\n",
    "            popup=popup,\n",
    "            icon=folium.DivIcon(\n",
    "                html=f\"\"\"\n",
    "                <div style=\"\n",
    "                    font-size: 12px; \n",
    "                    color: white; \n",
    "                    background-color: {color}; \n",
    "                    border-radius: 50%; \n",
    "                    width: 35px; \n",
    "                    height: 25px;\n",
    "                    text-align: center;\n",
    "                    line-height: 25px;\">\n",
    "                    ({int(value_1)},{int(value_2)})\n",
    "                </div>\n",
    "                \"\"\"\n",
    "            )\n",
    "        ).add_to(map)"
   ]
  },
  {
   "cell_type": "code",
   "execution_count": null,
   "id": "b94ea60a-c087-4c43-b589-923ed01557c3",
   "metadata": {},
   "outputs": [],
   "source": []
  },
  {
   "cell_type": "markdown",
   "id": "abe97999-8257-4dab-983d-203f55c1161e",
   "metadata": {},
   "source": [
    "# Ranking"
   ]
  },
  {
   "cell_type": "code",
   "execution_count": 13,
   "id": "9ab6031c-f135-4586-8982-8df46436c559",
   "metadata": {},
   "outputs": [],
   "source": [
    "bars_df['Visited'] = False"
   ]
  },
  {
   "cell_type": "code",
   "execution_count": 27,
   "id": "6557b0b0-2b70-402f-8d9f-5c16e8e6f764",
   "metadata": {},
   "outputs": [],
   "source": [
    "filtered_df = bars_df[bars_df['Bar Name'].str.contains('Henson', case=False)]"
   ]
  },
  {
   "cell_type": "code",
   "execution_count": 28,
   "id": "1a58c29c-d53b-4c66-80a4-4b940ee22b4c",
   "metadata": {},
   "outputs": [
    {
     "data": {
      "text/html": [
       "<div>\n",
       "<style scoped>\n",
       "    .dataframe tbody tr th:only-of-type {\n",
       "        vertical-align: middle;\n",
       "    }\n",
       "\n",
       "    .dataframe tbody tr th {\n",
       "        vertical-align: top;\n",
       "    }\n",
       "\n",
       "    .dataframe thead th {\n",
       "        text-align: right;\n",
       "    }\n",
       "</style>\n",
       "<table border=\"1\" class=\"dataframe\">\n",
       "  <thead>\n",
       "    <tr style=\"text-align: right;\">\n",
       "      <th></th>\n",
       "      <th>Bar ID</th>\n",
       "      <th>Bar Name</th>\n",
       "      <th>Address</th>\n",
       "      <th>Phone Number</th>\n",
       "      <th>Description</th>\n",
       "      <th>MON</th>\n",
       "      <th>TUE</th>\n",
       "      <th>WED</th>\n",
       "      <th>THU</th>\n",
       "      <th>FRI</th>\n",
       "      <th>SAT</th>\n",
       "      <th>SUN</th>\n",
       "      <th>Latitude</th>\n",
       "      <th>Longitude</th>\n",
       "      <th>Priority</th>\n",
       "      <th>Visited</th>\n",
       "    </tr>\n",
       "  </thead>\n",
       "  <tbody>\n",
       "    <tr>\n",
       "      <th>51</th>\n",
       "      <td>51</td>\n",
       "      <td>Henson's Bar at Mimi's Hotel</td>\n",
       "      <td>56-57 Frith Street, London, W1D 3JG</td>\n",
       "      <td>+44 (0) 20 8017 9100</td>\n",
       "      <td>A sleek, art-lined hotel bar, almost hidden aw...</td>\n",
       "      <td>12PM - 11:30PM</td>\n",
       "      <td>12PM - 11:30PM</td>\n",
       "      <td>12PM - 11:30PM</td>\n",
       "      <td>12PM - 11:30PM</td>\n",
       "      <td>12PM - 12AM</td>\n",
       "      <td>12PM - 12AM</td>\n",
       "      <td>12PM - 10:30PM</td>\n",
       "      <td>51.514023</td>\n",
       "      <td>-0.132093</td>\n",
       "      <td>1</td>\n",
       "      <td>False</td>\n",
       "    </tr>\n",
       "  </tbody>\n",
       "</table>\n",
       "</div>"
      ],
      "text/plain": [
       "    Bar ID                      Bar Name                              Address  \\\n",
       "51      51  Henson's Bar at Mimi's Hotel  56-57 Frith Street, London, W1D 3JG   \n",
       "\n",
       "            Phone Number                                        Description  \\\n",
       "51  +44 (0) 20 8017 9100  A sleek, art-lined hotel bar, almost hidden aw...   \n",
       "\n",
       "               MON             TUE             WED             THU  \\\n",
       "51  12PM - 11:30PM  12PM - 11:30PM  12PM - 11:30PM  12PM - 11:30PM   \n",
       "\n",
       "            FRI          SAT             SUN   Latitude  Longitude  Priority  \\\n",
       "51  12PM - 12AM  12PM - 12AM  12PM - 10:30PM  51.514023  -0.132093         1   \n",
       "\n",
       "    Visited  \n",
       "51    False  "
      ]
     },
     "execution_count": 28,
     "metadata": {},
     "output_type": "execute_result"
    }
   ],
   "source": [
    "filtered_df"
   ]
  },
  {
   "cell_type": "code",
   "execution_count": 29,
   "id": "f92696c0-818b-4668-895a-163815f7f689",
   "metadata": {},
   "outputs": [],
   "source": [
    "# List of Bar IDs where 'Visited' should be True\n",
    "visited_bar_ids = [28, 143, 55, 63, 148, 107, 51]\n",
    "\n",
    "# Set 'Visited' to True where 'Bar ID' is in the list\n",
    "bars_df.loc[bars_df['Bar ID'].isin(visited_bar_ids), 'Visited'] = True"
   ]
  },
  {
   "cell_type": "code",
   "execution_count": 31,
   "id": "1a4fa40b-3cca-423b-858b-4af58291300c",
   "metadata": {},
   "outputs": [],
   "source": [
    "visited_bars_df = bars_df[bars_df['Visited'] == True]"
   ]
  },
  {
   "cell_type": "code",
   "execution_count": 42,
   "id": "19abb96d-bfc8-4711-99c7-cb545fc51b5e",
   "metadata": {},
   "outputs": [],
   "source": [
    "bars_df['Ranking'] = np.nan"
   ]
  },
  {
   "cell_type": "code",
   "execution_count": 43,
   "id": "35471f8c-59ef-4a75-b7a8-5b651d5c1f96",
   "metadata": {},
   "outputs": [],
   "source": [
    "updates = {\n",
    "    51: 1,\n",
    "    143: 2,\n",
    "    55: 3,\n",
    "    28: 4,\n",
    "    63: 5,\n",
    "    107: 6,\n",
    "    148: 7\n",
    "}\n",
    "\n",
    "for row, ranking in updates.items():\n",
    "    bars_df.loc[row, 'Ranking'] = ranking"
   ]
  },
  {
   "cell_type": "code",
   "execution_count": 71,
   "id": "ad084f1f-08d1-4d79-97cf-972055d71292",
   "metadata": {},
   "outputs": [],
   "source": [
    "visited_bars_df = bars_df[bars_df['Visited'] == True]"
   ]
  },
  {
   "cell_type": "code",
   "execution_count": 78,
   "id": "14d3224d-9c6a-452b-a0cc-29536d9572e4",
   "metadata": {},
   "outputs": [],
   "source": [
    "v_center = [visited_bars_df['Latitude'].mean(), visited_bars_df['Longitude'].mean()]\n",
    "v = folium.Map(location=v_center, zoom_start=12)\n",
    "\n",
    "for idx, row in visited_bars_df.iterrows():\n",
    "    folium.Marker(\n",
    "        location=[row['Latitude'], row['Longitude']], \n",
    "        icon=folium.DivIcon(\n",
    "            html=f\"\"\"\n",
    "            <div style=\"\n",
    "                font-size: 12px; \n",
    "                color: white; \n",
    "                background-color: #000000; \n",
    "                border-radius: 50%; \n",
    "                width: 25px; \n",
    "                height: 25px;\n",
    "                text-align: center;\n",
    "                line-height: 25px;\">\n",
    "                {int(row['Ranking'])}\n",
    "            </div>\n",
    "            \"\"\"\n",
    "        )\n",
    "    ).add_to(v)"
   ]
  },
  {
   "cell_type": "code",
   "execution_count": 79,
   "id": "bae96836-9255-4318-8206-2f8bc1fa5a79",
   "metadata": {},
   "outputs": [
    {
     "data": {
      "text/html": [
       "<div style=\"width:100%;\"><div style=\"position:relative;width:100%;height:0;padding-bottom:60%;\"><span style=\"color:#565656\">Make this Notebook Trusted to load map: File -> Trust Notebook</span><iframe srcdoc=\"&lt;!DOCTYPE html&gt;\n",
       "&lt;html&gt;\n",
       "&lt;head&gt;\n",
       "    \n",
       "    &lt;meta http-equiv=&quot;content-type&quot; content=&quot;text/html; charset=UTF-8&quot; /&gt;\n",
       "    \n",
       "        &lt;script&gt;\n",
       "            L_NO_TOUCH = false;\n",
       "            L_DISABLE_3D = false;\n",
       "        &lt;/script&gt;\n",
       "    \n",
       "    &lt;style&gt;html, body {width: 100%;height: 100%;margin: 0;padding: 0;}&lt;/style&gt;\n",
       "    &lt;style&gt;#map {position:absolute;top:0;bottom:0;right:0;left:0;}&lt;/style&gt;\n",
       "    &lt;script src=&quot;https://cdn.jsdelivr.net/npm/leaflet@1.9.3/dist/leaflet.js&quot;&gt;&lt;/script&gt;\n",
       "    &lt;script src=&quot;https://code.jquery.com/jquery-1.12.4.min.js&quot;&gt;&lt;/script&gt;\n",
       "    &lt;script src=&quot;https://cdn.jsdelivr.net/npm/bootstrap@5.2.2/dist/js/bootstrap.bundle.min.js&quot;&gt;&lt;/script&gt;\n",
       "    &lt;script src=&quot;https://cdnjs.cloudflare.com/ajax/libs/Leaflet.awesome-markers/2.0.2/leaflet.awesome-markers.js&quot;&gt;&lt;/script&gt;\n",
       "    &lt;link rel=&quot;stylesheet&quot; href=&quot;https://cdn.jsdelivr.net/npm/leaflet@1.9.3/dist/leaflet.css&quot;/&gt;\n",
       "    &lt;link rel=&quot;stylesheet&quot; href=&quot;https://cdn.jsdelivr.net/npm/bootstrap@5.2.2/dist/css/bootstrap.min.css&quot;/&gt;\n",
       "    &lt;link rel=&quot;stylesheet&quot; href=&quot;https://netdna.bootstrapcdn.com/bootstrap/3.0.0/css/bootstrap.min.css&quot;/&gt;\n",
       "    &lt;link rel=&quot;stylesheet&quot; href=&quot;https://cdn.jsdelivr.net/npm/@fortawesome/fontawesome-free@6.2.0/css/all.min.css&quot;/&gt;\n",
       "    &lt;link rel=&quot;stylesheet&quot; href=&quot;https://cdnjs.cloudflare.com/ajax/libs/Leaflet.awesome-markers/2.0.2/leaflet.awesome-markers.css&quot;/&gt;\n",
       "    &lt;link rel=&quot;stylesheet&quot; href=&quot;https://cdn.jsdelivr.net/gh/python-visualization/folium/folium/templates/leaflet.awesome.rotate.min.css&quot;/&gt;\n",
       "    \n",
       "            &lt;meta name=&quot;viewport&quot; content=&quot;width=device-width,\n",
       "                initial-scale=1.0, maximum-scale=1.0, user-scalable=no&quot; /&gt;\n",
       "            &lt;style&gt;\n",
       "                #map_f16186d663d7f80c7be20f4972819aa3 {\n",
       "                    position: relative;\n",
       "                    width: 100.0%;\n",
       "                    height: 100.0%;\n",
       "                    left: 0.0%;\n",
       "                    top: 0.0%;\n",
       "                }\n",
       "                .leaflet-container { font-size: 1rem; }\n",
       "            &lt;/style&gt;\n",
       "        \n",
       "&lt;/head&gt;\n",
       "&lt;body&gt;\n",
       "    \n",
       "    \n",
       "            &lt;div class=&quot;folium-map&quot; id=&quot;map_f16186d663d7f80c7be20f4972819aa3&quot; &gt;&lt;/div&gt;\n",
       "        \n",
       "&lt;/body&gt;\n",
       "&lt;script&gt;\n",
       "    \n",
       "    \n",
       "            var map_f16186d663d7f80c7be20f4972819aa3 = L.map(\n",
       "                &quot;map_f16186d663d7f80c7be20f4972819aa3&quot;,\n",
       "                {\n",
       "                    center: [51.50882142857142, -0.11823099999999999],\n",
       "                    crs: L.CRS.EPSG3857,\n",
       "                    zoom: 12,\n",
       "                    zoomControl: true,\n",
       "                    preferCanvas: false,\n",
       "                }\n",
       "            );\n",
       "\n",
       "            \n",
       "\n",
       "        \n",
       "    \n",
       "            var tile_layer_f39fce105cf53f13f41930910e96f721 = L.tileLayer(\n",
       "                &quot;https://{s}.tile.openstreetmap.org/{z}/{x}/{y}.png&quot;,\n",
       "                {&quot;attribution&quot;: &quot;Data by \\u0026copy; \\u003ca target=\\&quot;_blank\\&quot; href=\\&quot;http://openstreetmap.org\\&quot;\\u003eOpenStreetMap\\u003c/a\\u003e, under \\u003ca target=\\&quot;_blank\\&quot; href=\\&quot;http://www.openstreetmap.org/copyright\\&quot;\\u003eODbL\\u003c/a\\u003e.&quot;, &quot;detectRetina&quot;: false, &quot;maxNativeZoom&quot;: 18, &quot;maxZoom&quot;: 18, &quot;minZoom&quot;: 0, &quot;noWrap&quot;: false, &quot;opacity&quot;: 1, &quot;subdomains&quot;: &quot;abc&quot;, &quot;tms&quot;: false}\n",
       "            ).addTo(map_f16186d663d7f80c7be20f4972819aa3);\n",
       "        \n",
       "    \n",
       "            var marker_7f57463ee75557dc6b880b9bdf72b3b1 = L.marker(\n",
       "                [51.498964, -0.080975],\n",
       "                {}\n",
       "            ).addTo(map_f16186d663d7f80c7be20f4972819aa3);\n",
       "        \n",
       "    \n",
       "            var div_icon_e8d2c0c6913d09afd2a260544a48fbdc = L.divIcon({&quot;className&quot;: &quot;empty&quot;, &quot;html&quot;: &quot;\\n            \\u003cdiv style=\\&quot;\\n                font-size: 12px; \\n                color: white; \\n                background-color: #000000; \\n                border-radius: 50%; \\n                width: 25px; \\n                height: 25px;\\n                text-align: center;\\n                line-height: 25px;\\&quot;\\u003e\\n                4\\n            \\u003c/div\\u003e\\n            &quot;});\n",
       "            marker_7f57463ee75557dc6b880b9bdf72b3b1.setIcon(div_icon_e8d2c0c6913d09afd2a260544a48fbdc);\n",
       "        \n",
       "    \n",
       "            var marker_14c6b8da5d1843f74eb4f068ba32bbf3 = L.marker(\n",
       "                [51.514023, -0.132093],\n",
       "                {}\n",
       "            ).addTo(map_f16186d663d7f80c7be20f4972819aa3);\n",
       "        \n",
       "    \n",
       "            var div_icon_ffce11cfaec8d59acf9ab8b56c5e2bea = L.divIcon({&quot;className&quot;: &quot;empty&quot;, &quot;html&quot;: &quot;\\n            \\u003cdiv style=\\&quot;\\n                font-size: 12px; \\n                color: white; \\n                background-color: #000000; \\n                border-radius: 50%; \\n                width: 25px; \\n                height: 25px;\\n                text-align: center;\\n                line-height: 25px;\\&quot;\\u003e\\n                1\\n            \\u003c/div\\u003e\\n            &quot;});\n",
       "            marker_14c6b8da5d1843f74eb4f068ba32bbf3.setIcon(div_icon_ffce11cfaec8d59acf9ab8b56c5e2bea);\n",
       "        \n",
       "    \n",
       "            var marker_2c655789e08d0b374dd461b7922efe0a = L.marker(\n",
       "                [51.507306, -0.12927],\n",
       "                {}\n",
       "            ).addTo(map_f16186d663d7f80c7be20f4972819aa3);\n",
       "        \n",
       "    \n",
       "            var div_icon_ea05f6d6e4ff0ea268ebbab4bc893c97 = L.divIcon({&quot;className&quot;: &quot;empty&quot;, &quot;html&quot;: &quot;\\n            \\u003cdiv style=\\&quot;\\n                font-size: 12px; \\n                color: white; \\n                background-color: #000000; \\n                border-radius: 50%; \\n                width: 25px; \\n                height: 25px;\\n                text-align: center;\\n                line-height: 25px;\\&quot;\\u003e\\n                3\\n            \\u003c/div\\u003e\\n            &quot;});\n",
       "            marker_2c655789e08d0b374dd461b7922efe0a.setIcon(div_icon_ea05f6d6e4ff0ea268ebbab4bc893c97);\n",
       "        \n",
       "    \n",
       "            var marker_1103ca95cf70d838e1a7d9b18ab74438 = L.marker(\n",
       "                [51.511768, -0.125315],\n",
       "                {}\n",
       "            ).addTo(map_f16186d663d7f80c7be20f4972819aa3);\n",
       "        \n",
       "    \n",
       "            var div_icon_f207b999c6a10a1ee814fab450310c50 = L.divIcon({&quot;className&quot;: &quot;empty&quot;, &quot;html&quot;: &quot;\\n            \\u003cdiv style=\\&quot;\\n                font-size: 12px; \\n                color: white; \\n                background-color: #000000; \\n                border-radius: 50%; \\n                width: 25px; \\n                height: 25px;\\n                text-align: center;\\n                line-height: 25px;\\&quot;\\u003e\\n                5\\n            \\u003c/div\\u003e\\n            &quot;});\n",
       "            marker_1103ca95cf70d838e1a7d9b18ab74438.setIcon(div_icon_f207b999c6a10a1ee814fab450310c50);\n",
       "        \n",
       "    \n",
       "            var marker_9da7ab1592db298dda2509a214cd583c = L.marker(\n",
       "                [51.511717, -0.138475],\n",
       "                {}\n",
       "            ).addTo(map_f16186d663d7f80c7be20f4972819aa3);\n",
       "        \n",
       "    \n",
       "            var div_icon_d4f87d2cdbef72a70cc1c07e388330a1 = L.divIcon({&quot;className&quot;: &quot;empty&quot;, &quot;html&quot;: &quot;\\n            \\u003cdiv style=\\&quot;\\n                font-size: 12px; \\n                color: white; \\n                background-color: #000000; \\n                border-radius: 50%; \\n                width: 25px; \\n                height: 25px;\\n                text-align: center;\\n                line-height: 25px;\\&quot;\\u003e\\n                6\\n            \\u003c/div\\u003e\\n            &quot;});\n",
       "            marker_9da7ab1592db298dda2509a214cd583c.setIcon(div_icon_d4f87d2cdbef72a70cc1c07e388330a1);\n",
       "        \n",
       "    \n",
       "            var marker_53712c24e2f704af1b8776486295f35b = L.marker(\n",
       "                [51.504557, -0.091417],\n",
       "                {}\n",
       "            ).addTo(map_f16186d663d7f80c7be20f4972819aa3);\n",
       "        \n",
       "    \n",
       "            var div_icon_78f4e9555a830509f66c0353013e5c5d = L.divIcon({&quot;className&quot;: &quot;empty&quot;, &quot;html&quot;: &quot;\\n            \\u003cdiv style=\\&quot;\\n                font-size: 12px; \\n                color: white; \\n                background-color: #000000; \\n                border-radius: 50%; \\n                width: 25px; \\n                height: 25px;\\n                text-align: center;\\n                line-height: 25px;\\&quot;\\u003e\\n                2\\n            \\u003c/div\\u003e\\n            &quot;});\n",
       "            marker_53712c24e2f704af1b8776486295f35b.setIcon(div_icon_78f4e9555a830509f66c0353013e5c5d);\n",
       "        \n",
       "    \n",
       "            var marker_4bc1d4dfb3f687c08cb281ae121e88dc = L.marker(\n",
       "                [51.513415, -0.130072],\n",
       "                {}\n",
       "            ).addTo(map_f16186d663d7f80c7be20f4972819aa3);\n",
       "        \n",
       "    \n",
       "            var div_icon_628f9e463185b11d4f8a26f57eab13cc = L.divIcon({&quot;className&quot;: &quot;empty&quot;, &quot;html&quot;: &quot;\\n            \\u003cdiv style=\\&quot;\\n                font-size: 12px; \\n                color: white; \\n                background-color: #000000; \\n                border-radius: 50%; \\n                width: 25px; \\n                height: 25px;\\n                text-align: center;\\n                line-height: 25px;\\&quot;\\u003e\\n                7\\n            \\u003c/div\\u003e\\n            &quot;});\n",
       "            marker_4bc1d4dfb3f687c08cb281ae121e88dc.setIcon(div_icon_628f9e463185b11d4f8a26f57eab13cc);\n",
       "        \n",
       "&lt;/script&gt;\n",
       "&lt;/html&gt;\" style=\"position:absolute;width:100%;height:100%;left:0;top:0;border:none !important;\" allowfullscreen webkitallowfullscreen mozallowfullscreen></iframe></div></div>"
      ],
      "text/plain": [
       "<folium.folium.Map at 0x136011cd0>"
      ]
     },
     "execution_count": 79,
     "metadata": {},
     "output_type": "execute_result"
    }
   ],
   "source": [
    "v"
   ]
  },
  {
   "cell_type": "code",
   "execution_count": null,
   "id": "97d58485-850b-4890-b7e0-e63905d1818f",
   "metadata": {},
   "outputs": [],
   "source": []
  }
 ],
 "metadata": {
  "kernelspec": {
   "display_name": "Python 3 (ipykernel)",
   "language": "python",
   "name": "python3"
  },
  "language_info": {
   "codemirror_mode": {
    "name": "ipython",
    "version": 3
   },
   "file_extension": ".py",
   "mimetype": "text/x-python",
   "name": "python",
   "nbconvert_exporter": "python",
   "pygments_lexer": "ipython3",
   "version": "3.11.6"
  }
 },
 "nbformat": 4,
 "nbformat_minor": 5
}
