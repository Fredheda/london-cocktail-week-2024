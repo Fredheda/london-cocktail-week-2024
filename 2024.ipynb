{
 "cells": [
  {
   "cell_type": "code",
   "execution_count": 86,
   "id": "fd3591d3-2667-4a2e-9cda-1a16b3e0bbfc",
   "metadata": {},
   "outputs": [],
   "source": [
    "import pandas as pd\n",
    "import folium"
   ]
  },
  {
   "cell_type": "code",
   "execution_count": 196,
   "id": "ef75785b-5293-4d66-b74f-8f2b06cf5213",
   "metadata": {},
   "outputs": [],
   "source": [
    "bars_df = pd.read_csv('bar_csvs/bar_list_2024.csv', index_col=False)"
   ]
  },
  {
   "cell_type": "code",
   "execution_count": 197,
   "id": "4202eda5-4ecd-498f-8eaa-7b902bd5967e",
   "metadata": {},
   "outputs": [],
   "source": [
    "bars_df = bars_df.rename(columns={\"Unnamed: 0\": \"Bar ID\"})"
   ]
  },
  {
   "cell_type": "code",
   "execution_count": 198,
   "id": "b239115c-466e-4704-b823-da7dba3f4146",
   "metadata": {},
   "outputs": [],
   "source": [
    "bars_df['Priority'] = 0"
   ]
  },
  {
   "cell_type": "code",
   "execution_count": 199,
   "id": "b3226ea3-45a4-46b2-a027-fc24ec94cfdc",
   "metadata": {},
   "outputs": [],
   "source": [
    "updates = {\n",
    "    51: 1,\n",
    "    3: 2,\n",
    "    27: 3,\n",
    "    143: 4,\n",
    "    155: 5,\n",
    "    158: 6,\n",
    "    95: 7,\n",
    "    193: 8,\n",
    "    107: 9,\n",
    "    42: 10,\n",
    "    127: 11,\n",
    "    192: 12,\n",
    "    196: 13,\n",
    "    187: 14,\n",
    "    118: 15,\n",
    "    72: 16,\n",
    "    162: 17,\n",
    "    63: 18,\n",
    "    55: 19,\n",
    "    141: 20,\n",
    "    28: 21,\n",
    "    77: 22,\n",
    "    57: 23,\n",
    "    23: 24,\n",
    "    157: 25,\n",
    "    1: 26,\n",
    "    197: 27,\n",
    "    24: 28,\n",
    "    83: 29, \n",
    "    122: 30,\n",
    "    52: 31\n",
    "}\n",
    "\n",
    "for row, priority in updates.items():\n",
    "    bars_df.loc[row, 'Priority'] = priority"
   ]
  },
  {
   "cell_type": "code",
   "execution_count": 90,
   "id": "39b93aba-ac78-4350-b1af-da6bfac8a277",
   "metadata": {},
   "outputs": [],
   "source": [
    "drinks_df = pd.read_csv('drinks_df_preferences.csv')"
   ]
  },
  {
   "cell_type": "code",
   "execution_count": 91,
   "id": "881e6dbb-abae-4e3f-820a-637b502b8c6a",
   "metadata": {},
   "outputs": [],
   "source": [
    "drinks_df = drinks_df.drop(columns=['Unnamed: 0'])"
   ]
  },
  {
   "cell_type": "code",
   "execution_count": 93,
   "id": "ac4795d0-a645-42c6-8111-a301e0241897",
   "metadata": {},
   "outputs": [],
   "source": [
    "drinks_df['Total'] = drinks_df['Preferences'] + drinks_df['Temp Preferences']"
   ]
  },
  {
   "cell_type": "code",
   "execution_count": 243,
   "id": "9ee36281-a0ba-4af5-b7dd-2b96f9cb4338",
   "metadata": {},
   "outputs": [],
   "source": [
    "map_center = [bars_df['Latitude'].mean(), bars_df['Longitude'].mean()]\n",
    "map = folium.Map(location=map_center, zoom_start=12)"
   ]
  },
  {
   "cell_type": "code",
   "execution_count": 244,
   "id": "b4dc7c9c-9420-4072-9094-8b019ce89e18",
   "metadata": {},
   "outputs": [],
   "source": [
    "for idx, row in bars_df.iterrows():\n",
    "    priority = row['Priority']\n",
    "    bar_id = row['Bar ID']\n",
    "    bar = row['Bar Name']\n",
    "\n",
    "    drink_rows = drinks_df[drinks_df['Bar ID'] == bar_id]\n",
    "\n",
    "    value_1 = drink_rows['Preferences'].max()\n",
    "    value_2 = drink_rows['Temp Preferences'].max()\n",
    "    total_value = value_1 + value_2\n",
    "\n",
    "    popup = ''\n",
    "    \n",
    "    for drink_idx, drink_row in drink_rows.iterrows():\n",
    "        drink = drink_row['Drink']\n",
    "        preference = drink_row['Preferences']\n",
    "        popup += f\" Bar: {bar} Drink: {drink} / Preference: {preference} \\n\"\n",
    "\n",
    "    # print(priority)\n",
    "    if 1 <= priority <= 10:\n",
    "        color = 'red'\n",
    "    elif 11 <= priority <= 20:\n",
    "        color = 'green'\n",
    "    elif 21 <= priority <= 30:\n",
    "        color = 'blue'\n",
    "    else:\n",
    "        color = 'gray' \n",
    "\n",
    "    \n",
    "    \n",
    "    if (value_1 >= 4 or value_2 >= 4 or total_value >= 6):\n",
    "        folium.Marker(\n",
    "            location=[row['Latitude'], row['Longitude']],  # Coordinates\n",
    "            popup=popup,\n",
    "            icon=folium.DivIcon(\n",
    "                html=f\"\"\"\n",
    "                <div style=\"\n",
    "                    font-size: 12px; \n",
    "                    color: white; \n",
    "                    background-color: {color}; \n",
    "                    border-radius: 50%; \n",
    "                    width: 35px; \n",
    "                    height: 25px;\n",
    "                    text-align: center;\n",
    "                    line-height: 25px;\">\n",
    "                    ({int(value_1)},{int(value_2)})\n",
    "                </div>\n",
    "                \"\"\"\n",
    "            )\n",
    "        ).add_to(map)"
   ]
  },
  {
   "cell_type": "code",
   "execution_count": null,
   "id": "b94ea60a-c087-4c43-b589-923ed01557c3",
   "metadata": {},
   "outputs": [],
   "source": []
  }
 ],
 "metadata": {
  "kernelspec": {
   "display_name": "Python 3 (ipykernel)",
   "language": "python",
   "name": "python3"
  },
  "language_info": {
   "codemirror_mode": {
    "name": "ipython",
    "version": 3
   },
   "file_extension": ".py",
   "mimetype": "text/x-python",
   "name": "python",
   "nbconvert_exporter": "python",
   "pygments_lexer": "ipython3",
   "version": "3.11.6"
  }
 },
 "nbformat": 4,
 "nbformat_minor": 5
}
