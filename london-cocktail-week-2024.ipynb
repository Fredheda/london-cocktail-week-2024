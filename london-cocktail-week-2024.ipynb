{
 "cells": [
  {
   "cell_type": "markdown",
   "id": "e10f45d3-a6b9-40c6-83e7-c3393826bbf4",
   "metadata": {},
   "source": [
    "# London Cocktail Week 2024"
   ]
  },
  {
   "cell_type": "markdown",
   "id": "011be671-0c51-49cb-b7d5-ea106c9adb19",
   "metadata": {},
   "source": [
    "London Cocktail Week is the world's original Cocktail Week and takes place in the cocktail capital of the world.\n",
    "\n",
    "Every year, in October, London's best bars specially create Signature Cocktails, and allows cocktail enthusiasts to navigate their way through london, drink by drink.\n",
    "\n",
    "More information can be found here: https://londoncocktailweek.com/\n"
   ]
  },
  {
   "cell_type": "markdown",
   "id": "cf7d5d2f-f684-4788-a946-9d4f5957883d",
   "metadata": {},
   "source": [
    "## What is this repository about?"
   ]
  },
  {
   "cell_type": "markdown",
   "id": "c285ee0d-bc3f-45bb-886a-678d842ce36e",
   "metadata": {},
   "source": [
    "As a cocktail enthusiast myself, I've attended London Cocktail Week since moving to London, and each year I scrape the website to allow me find where I want to visit in an easier way! With each year that passes, this notebook gets more advanced!"
   ]
  },
  {
   "cell_type": "markdown",
   "id": "3143b97e-1adc-4b8e-b0f3-33db831c1084",
   "metadata": {},
   "source": [
    "## The Code"
   ]
  },
  {
   "cell_type": "markdown",
   "id": "6e531aaa-fd72-46b8-aedb-9a03e2893ce2",
   "metadata": {},
   "source": [
    "### Import Statements"
   ]
  },
  {
   "cell_type": "code",
   "execution_count": 33,
   "id": "8ec5c75d-a6b7-4f93-be23-50dfe1089acb",
   "metadata": {},
   "outputs": [],
   "source": [
    "import requests"
   ]
  },
  {
   "cell_type": "markdown",
   "id": "4d7b12b6-d04b-496f-888b-e8e57497b8d4",
   "metadata": {},
   "source": [
    "### Parse the Website"
   ]
  },
  {
   "cell_type": "code",
   "execution_count": 35,
   "id": "f1996a7d-af4f-4230-8069-8f9082460a37",
   "metadata": {},
   "outputs": [],
   "source": [
    "# Get the PDF from the website\n",
    "request = requests.get(\n",
    "    'https://londoncocktailweek.com/bars/print/?collectionId=0&whatId=0&areaId=0&spiritId=0&openNow=0&search='\n",
    ")\n",
    "\n",
    "# Parse the website using Beautiful Soup\n",
    "parsed_website = BeautifulSoup(request.text, 'html.parser')"
   ]
  },
  {
   "cell_type": "code",
   "execution_count": null,
   "id": "20b9374b-b8cb-4953-ad00-d3e4112123a2",
   "metadata": {},
   "outputs": [],
   "source": []
  }
 ],
 "metadata": {
  "kernelspec": {
   "display_name": "Python 3 (ipykernel)",
   "language": "python",
   "name": "python3"
  },
  "language_info": {
   "codemirror_mode": {
    "name": "ipython",
    "version": 3
   },
   "file_extension": ".py",
   "mimetype": "text/x-python",
   "name": "python",
   "nbconvert_exporter": "python",
   "pygments_lexer": "ipython3",
   "version": "3.11.6"
  }
 },
 "nbformat": 4,
 "nbformat_minor": 5
}
