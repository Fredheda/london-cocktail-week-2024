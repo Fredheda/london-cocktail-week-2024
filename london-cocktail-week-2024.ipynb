{
 "cells": [
  {
   "cell_type": "markdown",
   "id": "e10f45d3-a6b9-40c6-83e7-c3393826bbf4",
   "metadata": {},
   "source": [
    "# London Cocktail Week 2024"
   ]
  },
  {
   "cell_type": "markdown",
   "id": "011be671-0c51-49cb-b7d5-ea106c9adb19",
   "metadata": {},
   "source": [
    "London Cocktail Week is the world's original Cocktail Week and takes place in the cocktail capital of the world.\n",
    "\n",
    "Every year, in October, London's best bars specially create Signature Cocktails, and allows cocktail enthusiasts to navigate their way through london, drink by drink.\n",
    "\n",
    "More information can be found here: https://londoncocktailweek.com/\n"
   ]
  },
  {
   "cell_type": "markdown",
   "id": "cf7d5d2f-f684-4788-a946-9d4f5957883d",
   "metadata": {},
   "source": [
    "## What is this repository about?"
   ]
  },
  {
   "cell_type": "markdown",
   "id": "c285ee0d-bc3f-45bb-886a-678d842ce36e",
   "metadata": {},
   "source": [
    "As a cocktail enthusiast myself, I've attended London Cocktail Week since moving to London, and each year I scrape the website to allow me find where I want to visit in an easier way! With each year that passes, this notebook gets more advanced!"
   ]
  },
  {
   "cell_type": "markdown",
   "id": "3143b97e-1adc-4b8e-b0f3-33db831c1084",
   "metadata": {},
   "source": [
    "## The Code"
   ]
  },
  {
   "cell_type": "markdown",
   "id": "6e531aaa-fd72-46b8-aedb-9a03e2893ce2",
   "metadata": {},
   "source": [
    "### Import Statements"
   ]
  },
  {
   "cell_type": "code",
   "execution_count": 1,
   "id": "8ec5c75d-a6b7-4f93-be23-50dfe1089acb",
   "metadata": {},
   "outputs": [],
   "source": [
    "from bs4 import BeautifulSoup\n",
    "from dotenv import load_dotenv\n",
    "from geopy.geocoders import OpenCage\n",
    "import numpy as np\n",
    "import os\n",
    "import pandas as pd\n",
    "import re\n",
    "import requests\n",
    "import time"
   ]
  },
  {
   "cell_type": "markdown",
   "id": "1ac9a4a5-d7b7-49d2-968c-ef462a58be9a",
   "metadata": {},
   "source": [
    "### Setup API Keys"
   ]
  },
  {
   "cell_type": "code",
   "execution_count": 2,
   "id": "dfdb4620-1347-4374-acd9-3006c8b1df89",
   "metadata": {},
   "outputs": [
    {
     "data": {
      "text/plain": [
       "True"
      ]
     },
     "execution_count": 2,
     "metadata": {},
     "output_type": "execute_result"
    }
   ],
   "source": [
    "load_dotenv()"
   ]
  },
  {
   "cell_type": "markdown",
   "id": "4d7b12b6-d04b-496f-888b-e8e57497b8d4",
   "metadata": {},
   "source": [
    "### Parse the Website"
   ]
  },
  {
   "cell_type": "code",
   "execution_count": 3,
   "id": "f1996a7d-af4f-4230-8069-8f9082460a37",
   "metadata": {},
   "outputs": [],
   "source": [
    "def parse_london_cocktail_week_website (url):\n",
    "    # Get the PDF from the website\n",
    "    request = requests.get(url)\n",
    "    \n",
    "    # Parse the website using Beautiful Soup\n",
    "    parsed_website = BeautifulSoup(request.text, 'html.parser')\n",
    "\n",
    "    return parsed_website"
   ]
  },
  {
   "cell_type": "markdown",
   "id": "a331c3f9-0ab2-44ab-9e9c-b6d42018b830",
   "metadata": {},
   "source": [
    "### Collate bars into a Data Frame"
   ]
  },
  {
   "cell_type": "code",
   "execution_count": 4,
   "id": "15e7ae82-c63b-4805-8eba-a2e0e5822841",
   "metadata": {},
   "outputs": [],
   "source": [
    "def create_bars_csv(year, url):\n",
    "\n",
    "    # Get the parsed website\n",
    "    parsed_website = parse_london_cocktail_week_website(url)\n",
    "\n",
    "    # Create the dataframe\n",
    "    df = pd.DataFrame(columns=[\n",
    "        'Bar Name',\n",
    "        'Address',\n",
    "        'Phone Number',\n",
    "        'Description',\n",
    "        'MON',\n",
    "        'TUE',\n",
    "        'WED',\n",
    "        'THU',\n",
    "        'FRI',\n",
    "        'SAT',\n",
    "        'SUN',\n",
    "    ])\n",
    "    \n",
    "    # Get the list of bars\n",
    "    bars = parsed_website.find('ul').findChildren(\"li\", recursive=False)\n",
    "    \n",
    "    # Loop through each bar\n",
    "    for i, bar in enumerate(bars):\n",
    "        \n",
    "        # Store the bar name, address, phone number & description\n",
    "        bar_name     = bar.find('h2', {'class': 'bar_name'}).getText()\n",
    "        address      = bar.find('div', {'class': 'text'}).getText()\n",
    "        phone_number = bar.find('div', {'class': 'text--padded'}).getText()\n",
    "        description  = bar.find('p', {'class': 'text text--padded'}).getText()\n",
    "    \n",
    "        # Get the opening hours container for each bar\n",
    "        weekly_opening_hours_container = bar.find('ul', {'class': 'opening_hours__container'}).find_all('li', {'class': 'opening_hours__times'})\n",
    "    \n",
    "        # Store the times for each day of the week\n",
    "        times = [opening_hours.find('li', {'class': 'text'}).getText() for opening_hours in weekly_opening_hours_container]\n",
    "    \n",
    "        # Save all bar data to the dataframe\n",
    "        df.loc[i] = [\n",
    "            bar_name,\n",
    "            address,\n",
    "            phone_number,\n",
    "            description\n",
    "        ] + times\n",
    "\n",
    "    export_to_csv(df, year)\n",
    "\n",
    "    return df"
   ]
  },
  {
   "cell_type": "markdown",
   "id": "4d64041a-48fa-46ed-bcc3-68a8f20af354",
   "metadata": {},
   "source": [
    "### Export to CSV"
   ]
  },
  {
   "cell_type": "code",
   "execution_count": 5,
   "id": "36046430-0367-452f-83f0-567734d4e46d",
   "metadata": {},
   "outputs": [],
   "source": [
    "def export_to_csv(df, year):\n",
    "    csv_string = 'bar_csvs/bar_list_' + str(year) + '.csv'\n",
    "    df.to_csv(csv_string)"
   ]
  },
  {
   "cell_type": "markdown",
   "id": "0b46c06a-fd40-4539-ba37-25c06bfc6353",
   "metadata": {},
   "source": [
    "### Check if the bar list has already been parsed"
   ]
  },
  {
   "cell_type": "code",
   "execution_count": 6,
   "id": "000a1f7d-f189-4640-ace3-6d16d9f3b529",
   "metadata": {},
   "outputs": [],
   "source": [
    "def get_bar_dataframe (year, url):\n",
    "    file_path = 'bar_csvs/bar_list_' + str(year) + '.csv'\n",
    "    \n",
    "    if os.path.exists(file_path):\n",
    "        df = pd.read_csv(file_path)\n",
    "    else:\n",
    "        df = create_bars_csv(year, url)\n",
    "\n",
    "    if 'Latitude' not in df.columns and 'Longitude' not in df.columns:\n",
    "        df = add_latitude_and_longitude(df)\n",
    "        export_to_csv(df, year)\n",
    "\n",
    "    return df"
   ]
  },
  {
   "cell_type": "markdown",
   "id": "ee766207-a089-450c-9d92-cfc23784d2e7",
   "metadata": {},
   "source": [
    "### Update the dataframe to store latitude and longitude"
   ]
  },
  {
   "cell_type": "code",
   "execution_count": 7,
   "id": "da91c80f-e835-4a34-8b39-f5097be85623",
   "metadata": {},
   "outputs": [],
   "source": [
    "def add_latitude_and_longitude(df):\n",
    "    df[['Latitude', 'Longitude']] = df['Address'].apply(get_coordinates).apply(pd.Series)\n",
    "    return df"
   ]
  },
  {
   "cell_type": "markdown",
   "id": "355f32eb-6dbd-4fd6-a836-17f5988e1ee2",
   "metadata": {},
   "source": [
    "### Get the coordinates for the bars"
   ]
  },
  {
   "cell_type": "code",
   "execution_count": 8,
   "id": "51b98361-cc83-44ee-a2be-b1f2a0d05020",
   "metadata": {},
   "outputs": [],
   "source": [
    "def get_coordinates (address):\n",
    "    geolocator = OpenCage(api_key=os.getenv('OPEN_CAGE_API_KEY'))\n",
    "    \n",
    "    location = geolocator.geocode(address)\n",
    "\n",
    "    latitude = location.latitude\n",
    "    longitude = location.longitude\n",
    "\n",
    "    return [latitude, longitude]"
   ]
  },
  {
   "cell_type": "markdown",
   "id": "4539d529-9a55-42df-bea7-712958a24a4f",
   "metadata": {},
   "source": [
    "### Get Drinks Dataframe"
   ]
  },
  {
   "cell_type": "code",
   "execution_count": 71,
   "id": "010d6dc0-8f28-43d4-887f-039ce1abf02a",
   "metadata": {},
   "outputs": [],
   "source": [
    "def get_drinks_dataframe ():\n",
    "\n",
    "    # Get the parsed website\n",
    "    parsed_website = parse_london_cocktail_week_website(url)\n",
    "    bars = parsed_website.find('ul').findChildren(\"li\", recursive=False)\n",
    "    \n",
    "    # # Create the dataframe\n",
    "    drinks_df = pd.DataFrame(columns=[\n",
    "        'ID',\n",
    "        'Bar',\n",
    "        'Drink',\n",
    "        'Price',\n",
    "        'Is Non Alcoholic',\n",
    "        'Description',\n",
    "        'Preferences',\n",
    "        'Temp Preferences',\n",
    "    ])\n",
    "    \n",
    "    for i, bar in enumerate(bars):\n",
    "    \n",
    "        bar_name = bar.find('h2', {'class': 'bar_name'}).getText()\n",
    "        \n",
    "        signature_serve_section = bar.find('h4', string=\"LONDON COCKTAIL WEEK SIGNATURE SERVE\")\n",
    "    \n",
    "        if signature_serve_section:\n",
    "            drinks_list = signature_serve_section.find_next('ul')  # Get the next <ul> after the heading\n",
    "            \n",
    "            for li in drinks_list.find_all('li'):\n",
    "                drink_name = li.find_all('div', class_='text text--padded')[0].text.strip()\n",
    "                drink_description = li.find_all('div', class_='text text--padded')[1].text.strip()\n",
    "                # drinks.append((drink_name, drink_description))\n",
    "    \n",
    "                # print(drink_name)\n",
    "                if drink_name != '':\n",
    "                    \n",
    "                    name, price, is_non_alc = parse_drink_info(drink_name)\n",
    "\n",
    "                    drinks_df.loc[len(drinks_df)] = [\n",
    "                        i,\n",
    "                        bar_name,\n",
    "                        name,\n",
    "                        price,\n",
    "                        is_non_alc,\n",
    "                        drink_description,\n",
    "                        None,\n",
    "                        None,\n",
    "                    ]\n",
    "    return drinks_df"
   ]
  },
  {
   "cell_type": "markdown",
   "id": "5394a9dc-af1d-4136-8339-e8376e59b728",
   "metadata": {},
   "source": [
    "### Parse the Drink Name"
   ]
  },
  {
   "cell_type": "code",
   "execution_count": 10,
   "id": "cd5c4158-eb83-45a7-8f1f-5ec2bce27d45",
   "metadata": {},
   "outputs": [],
   "source": [
    "def parse_drink_info(drink_string):\n",
    "    # Regex pattern to capture drink name, price, and non-alc status\n",
    "    pattern = r'^(.*) - (£\\d+) ?(\\((NON ALC|Non-Alc)\\))?$'\n",
    "    match = re.match(pattern, drink_string)\n",
    "\n",
    "    if match:\n",
    "        drink_name = match.group(1).strip()\n",
    "        price = match.group(2)\n",
    "        non_alcoholic = match.group(4) is not None\n",
    "        return drink_name, price, non_alcoholic\n",
    "    else:\n",
    "        return None, None, None  # In case of no match\n"
   ]
  },
  {
   "cell_type": "markdown",
   "id": "f94f9e0d-20a9-43fe-b7f6-dd79979889e1",
   "metadata": {},
   "source": [
    "## London Cocktail Week 2024"
   ]
  },
  {
   "cell_type": "code",
   "execution_count": 11,
   "id": "ecf7b338-633c-4bf4-9d55-edcc5a209588",
   "metadata": {},
   "outputs": [],
   "source": [
    "year = 2024\n",
    "url  = 'https://londoncocktailweek.com/bars/print/?collectionId=0&whatId=0&areaId=0&spiritId=0&openNow=0&search='\n",
    "df   = get_bar_dataframe (year, url)\n",
    "drinks_df = get_drinks_dataframe()"
   ]
  },
  {
   "cell_type": "markdown",
   "id": "6e68b740-ef43-42b7-b8b5-e6479416c606",
   "metadata": {},
   "source": [
    "### Sort Through the Drinks (Manual)"
   ]
  },
  {
   "cell_type": "markdown",
   "id": "9f9f2e45-6fb4-4da8-ba7b-ecff86c37d8e",
   "metadata": {},
   "source": [
    "As a manual effort for 2024, and due to time constraints, the drinks were ranked on a scale of 0 to 5 manually, so that further evaluation could be carried out."
   ]
  },
  {
   "cell_type": "markdown",
   "id": "88767f52-ee44-4be2-93bd-aa07bf8d9e9e",
   "metadata": {},
   "source": [
    "The scale is as follows:\n",
    "- 0 = Don't Want\n",
    "- 1 = Would try if we're going for someone else\n",
    "- 2 = Sounds nice\n",
    "- 3 = Would like to try\n",
    "- 4 = Really Want to try\n",
    "- 5 = Must Try"
   ]
  },
  {
   "cell_type": "markdown",
   "id": "e0e1444a-1701-4390-afe4-aa38d1c4b6c8",
   "metadata": {},
   "source": [
    "#### Temorary Sorting"
   ]
  },
  {
   "cell_type": "markdown",
   "id": "3e748c84-0527-4907-b7fd-7254ae61abd1",
   "metadata": {},
   "source": [
    "An example of the temporary storing is displayed below."
   ]
  },
  {
   "cell_type": "code",
   "execution_count": 1027,
   "id": "938126a0-403d-48c2-b62c-9d9b0a8d5f61",
   "metadata": {},
   "outputs": [],
   "source": [
    "# drinks_df['Preferences'] = None\n",
    "# drinks_df['Temp Preferences'] = None"
   ]
  },
  {
   "cell_type": "code",
   "execution_count": 1028,
   "id": "b926c885-db6e-4478-83bf-202b751dcb57",
   "metadata": {},
   "outputs": [],
   "source": [
    "# filtered_df = drinks_df[drinks_df['Bar'].str.contains(\"Lockes\", case=False, na=False)]"
   ]
  },
  {
   "cell_type": "code",
   "execution_count": 1029,
   "id": "a6202d30-cf99-4aa5-9ef7-8d2e85d30f4c",
   "metadata": {},
   "outputs": [],
   "source": [
    "# drinks_df.at[312,'Preferences'] = 2\n",
    "# drinks_df.at[313,'Preferences'] = 2\n",
    "\n",
    "# drinks_df.at[312,'Temp Preferences'] = 2\n",
    "# drinks_df.at[313,'Temp Preferences'] = 2"
   ]
  },
  {
   "cell_type": "code",
   "execution_count": 1030,
   "id": "c26e07d6-6dab-4a78-b9c7-8c8098200f06",
   "metadata": {},
   "outputs": [],
   "source": [
    "# pd.set_option('display.max_rows', None)"
   ]
  },
  {
   "cell_type": "code",
   "execution_count": 1031,
   "id": "55466ea6-ad8b-43c7-9072-cddcff8064db",
   "metadata": {},
   "outputs": [],
   "source": [
    "# filtered_df = drinks_df[\n",
    "#     drinks_df['Description'].str.contains(\"Salt\", case=False, na=False) & \n",
    "#    drinks_df['Preferences'].isna()\n",
    "# ]"
   ]
  },
  {
   "cell_type": "code",
   "execution_count": 1032,
   "id": "3e62d362-ba72-4f5d-b470-070537e38032",
   "metadata": {},
   "outputs": [],
   "source": [
    "# new_csv_string = 'drinks_df_preferences.csv'\n",
    "# drinks_df.to_csv(new_csv_string)"
   ]
  },
  {
   "cell_type": "code",
   "execution_count": null,
   "id": "e28d6d67-ae19-4c42-8e85-246b59411aab",
   "metadata": {},
   "outputs": [],
   "source": []
  }
 ],
 "metadata": {
  "kernelspec": {
   "display_name": "Python 3 (ipykernel)",
   "language": "python",
   "name": "python3"
  },
  "language_info": {
   "codemirror_mode": {
    "name": "ipython",
    "version": 3
   },
   "file_extension": ".py",
   "mimetype": "text/x-python",
   "name": "python",
   "nbconvert_exporter": "python",
   "pygments_lexer": "ipython3",
   "version": "3.11.6"
  }
 },
 "nbformat": 4,
 "nbformat_minor": 5
}
