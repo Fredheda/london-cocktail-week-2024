{
 "cells": [
  {
   "cell_type": "markdown",
   "id": "e10f45d3-a6b9-40c6-83e7-c3393826bbf4",
   "metadata": {},
   "source": [
    "# London Cocktail Week 2024"
   ]
  },
  {
   "cell_type": "markdown",
   "id": "011be671-0c51-49cb-b7d5-ea106c9adb19",
   "metadata": {},
   "source": [
    "London Cocktail Week is the world's original Cocktail Week and takes place in the cocktail capital of the world.\n",
    "\n",
    "Every year, in October, London's best bars specially create Signature Cocktails, and allows cocktail enthusiasts to navigate their way through london, drink by drink.\n",
    "\n",
    "More information can be found here: https://londoncocktailweek.com/\n"
   ]
  },
  {
   "cell_type": "markdown",
   "id": "cf7d5d2f-f684-4788-a946-9d4f5957883d",
   "metadata": {},
   "source": [
    "## What is this repository about?"
   ]
  },
  {
   "cell_type": "markdown",
   "id": "c285ee0d-bc3f-45bb-886a-678d842ce36e",
   "metadata": {},
   "source": [
    "As a cocktail enthusiast myself, I've attended London Cocktail Week since moving to London, and each year I scrape the website to allow me find where I want to visit in an easier way! With each year that passes, this notebook gets more advanced!"
   ]
  },
  {
   "cell_type": "markdown",
   "id": "3143b97e-1adc-4b8e-b0f3-33db831c1084",
   "metadata": {},
   "source": [
    "## The Code"
   ]
  },
  {
   "cell_type": "markdown",
   "id": "6e531aaa-fd72-46b8-aedb-9a03e2893ce2",
   "metadata": {},
   "source": [
    "### Import Statements"
   ]
  },
  {
   "cell_type": "code",
   "execution_count": 9,
   "id": "8ec5c75d-a6b7-4f93-be23-50dfe1089acb",
   "metadata": {},
   "outputs": [],
   "source": [
    "from bs4 import BeautifulSoup\n",
    "from datetime import datetime\n",
    "import pandas as pd\n",
    "import requests"
   ]
  },
  {
   "cell_type": "markdown",
   "id": "4d7b12b6-d04b-496f-888b-e8e57497b8d4",
   "metadata": {},
   "source": [
    "### Parse the Website"
   ]
  },
  {
   "cell_type": "code",
   "execution_count": 10,
   "id": "f1996a7d-af4f-4230-8069-8f9082460a37",
   "metadata": {},
   "outputs": [],
   "source": [
    "# Get the PDF from the website\n",
    "request = requests.get(\n",
    "    'https://londoncocktailweek.com/bars/print/?collectionId=0&whatId=0&areaId=0&spiritId=0&openNow=0&search='\n",
    ")\n",
    "\n",
    "# Parse the website using Beautiful Soup\n",
    "parsed_website = BeautifulSoup(request.text, 'html.parser')"
   ]
  },
  {
   "cell_type": "markdown",
   "id": "a331c3f9-0ab2-44ab-9e9c-b6d42018b830",
   "metadata": {},
   "source": [
    "### Collate bars into a Data Frame"
   ]
  },
  {
   "cell_type": "code",
   "execution_count": 11,
   "id": "15e7ae82-c63b-4805-8eba-a2e0e5822841",
   "metadata": {},
   "outputs": [],
   "source": [
    "# Create the dataframe\n",
    "df = pd.DataFrame(columns=[\n",
    "    'Bar Name',\n",
    "    'Address',\n",
    "    'Phone Number',\n",
    "    'Description',\n",
    "    'MON',\n",
    "    'TUE',\n",
    "    'WED',\n",
    "    'THU',\n",
    "    'FRI',\n",
    "    'SAT',\n",
    "    'SUN'\n",
    "])\n",
    "\n",
    "# Get the list of bars\n",
    "bars = parsed_website.find('ul').findChildren(\"li\", recursive=False)\n",
    "\n",
    "# Loop through each bar\n",
    "for i, bar in enumerate(bars):\n",
    "    \n",
    "    # Store the bar name, address, phone number & description\n",
    "    bar_name     = bar.find('h2', {'class': 'bar_name'}).getText()\n",
    "    address      = bar.find('div', {'class': 'text'}).getText()\n",
    "    phone_number = bar.find('div', {'class': 'text--padded'}).getText()\n",
    "    description  = bar.find('p', {'class': 'text text--padded'}).getText()\n",
    "\n",
    "    # Get the opening hours container for each bar\n",
    "    weekly_opening_hours_container = bar.find('ul', {'class': 'opening_hours__container'}).find_all('li', {'class': 'opening_hours__times'})\n",
    "\n",
    "    # Store the times for each day of the week\n",
    "    times = [opening_hours.find('li', {'class': 'text'}).getText() for opening_hours in weekly_opening_hours_container]\n",
    "\n",
    "    # Save all bar data to the dataframe\n",
    "    df.loc[i] = [\n",
    "        bar_name,\n",
    "        address,\n",
    "        phone_number,\n",
    "        description\n",
    "    ] + times"
   ]
  },
  {
   "cell_type": "code",
   "execution_count": 12,
   "id": "8573457d-56f5-46ec-a050-3b5714b0dd98",
   "metadata": {},
   "outputs": [],
   "source": [
    "csv_string = 'bar_csvs/bar_list_' + datetime.now().strftime(\"%Y_%m_%d_%H-%M-%S\") + '.csv'\n",
    "df.to_csv(csv_string)"
   ]
  },
  {
   "cell_type": "code",
   "execution_count": null,
   "id": "a8c6fd60-4b88-4aa7-ba7e-1749909a7155",
   "metadata": {},
   "outputs": [],
   "source": []
  }
 ],
 "metadata": {
  "kernelspec": {
   "display_name": "Python 3 (ipykernel)",
   "language": "python",
   "name": "python3"
  },
  "language_info": {
   "codemirror_mode": {
    "name": "ipython",
    "version": 3
   },
   "file_extension": ".py",
   "mimetype": "text/x-python",
   "name": "python",
   "nbconvert_exporter": "python",
   "pygments_lexer": "ipython3",
   "version": "3.11.6"
  }
 },
 "nbformat": 4,
 "nbformat_minor": 5
}
